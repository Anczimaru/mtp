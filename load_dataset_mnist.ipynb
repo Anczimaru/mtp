{
 "cells": [
  {
   "cell_type": "code",
   "execution_count": null,
   "metadata": {},
   "outputs": [],
   "source": [
    "def load_dataset_fn(mode,img_size, num_channels,num_classes, file_name = 'notMNIST.pickle'):\n",
    "    \"\"\"mode = test for test data, \n",
    "    valid for validation data,\n",
    "    train for training data,\n",
    "    file_name = 'notMNIST.pickle' \"\"\"\n",
    "    import sys\n",
    "    import os\n",
    "    import numpy as np\n",
    "    from six.moves import cPickle as pickle\n",
    "    # coding: utf-8\n",
    "    #Import data from notMNIST file\n",
    "    if mode == 'train' or mode == 'valid' or mode == 'test' :\n",
    "        name_dataset = mode + '_dataset'\n",
    "        name_label = mode + '_labels'\n",
    "        pickle_file = file_name\n",
    "\n",
    "        with open(pickle_file, 'rb') as f:\n",
    "            save = pickle.load(f)\n",
    "            dataset = save[name_dataset]\n",
    "            labels = save[name_label]\n",
    "\n",
    "            del save  # hint to help gc free up memory\n",
    "\n",
    "        dataset = dataset.reshape(\n",
    "            (-1, img_size, img_size, num_channels)).astype(np.float32)\n",
    "        labels = (np.arange(num_classes) == labels[:,None]).astype(np.float32)\n",
    "\n",
    "        return dataset, labels\n",
    "    else:\n",
    "        print(\"bad mode\")\n",
    "        return null\n",
    "    \n",
    "    \n",
    "    \n",
    "    \n",
    "    \n",
    "    \n",
    "    \"\"\"\n",
    "        train_dataset, train_labels = reformat(train_dataset, train_labels)\n",
    "        valid_dataset, valid_labels = reformat(valid_dataset, valid_labels)\n",
    "        test_dataset, test_labels = reformat(test_dataset, test_labels)\n",
    "        print('Training set', train_dataset.shape, train_labels.shape)\n",
    "        print('Validation set', valid_dataset.shape, valid_labels.shape)\n",
    "        print('Test set', test_dataset.shape, test_labels.shape) \"\"\""
   ]
  }
 ],
 "metadata": {
  "kernelspec": {
   "display_name": "Python 3",
   "language": "python",
   "name": "python3"
  },
  "language_info": {
   "codemirror_mode": {
    "name": "ipython",
    "version": 3
   },
   "file_extension": ".py",
   "mimetype": "text/x-python",
   "name": "python",
   "nbconvert_exporter": "python",
   "pygments_lexer": "ipython3",
   "version": "3.5.5"
  },
  "varInspector": {
   "cols": {
    "lenName": 16,
    "lenType": 16,
    "lenVar": 40
   },
   "kernels_config": {
    "python": {
     "delete_cmd_postfix": "",
     "delete_cmd_prefix": "del ",
     "library": "var_list.py",
     "varRefreshCmd": "print(var_dic_list())"
    },
    "r": {
     "delete_cmd_postfix": ") ",
     "delete_cmd_prefix": "rm(",
     "library": "var_list.r",
     "varRefreshCmd": "cat(var_dic_list()) "
    }
   },
   "types_to_exclude": [
    "module",
    "function",
    "builtin_function_or_method",
    "instance",
    "_Feature"
   ],
   "window_display": false
  }
 },
 "nbformat": 4,
 "nbformat_minor": 2
}
