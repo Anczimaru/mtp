{
 "cells": [
  {
   "cell_type": "code",
   "execution_count": 1,
   "metadata": {},
   "outputs": [],
   "source": [
    "import numpy as np\n",
    "from PIL import Image\n",
    "import PIL\n",
    "import os\n",
    "import shutil\n",
    "import imageio"
   ]
  },
  {
   "cell_type": "code",
   "execution_count": 2,
   "metadata": {},
   "outputs": [],
   "source": [
    "#HYPER PARAMETERS\n",
    "#Program handles process of creating pictures\n",
    "#It imports injection(marker, named \"injection.png\"), bakcground photo(from src_dir), combines them by injecting marker in random position of background\n",
    "#saves it later to dst_dir\n",
    "def main():\n",
    "    src_dir = './Backgroundpics/images'\n",
    "    dst_dir = './Test'\n",
    "    file_ext = '.jpeg'\n",
    "    number_of_photos = 100\n",
    "    make_data(src_dir,dst_dir,limit = number_of_photos,file_ext = file_ext)"
   ]
  },
  {
   "cell_type": "code",
   "execution_count": 3,
   "metadata": {},
   "outputs": [],
   "source": [
    "#Get x,y locations for injected photo depending on size of image\n",
    "def rand_params(dimen1 =(256,256), dimen2 = (64,64)):\n",
    "    x = np.ceil(np.random.rand() * (dimen1[0]-dimen2[0]/2));\n",
    "    y = np.ceil(np.random.rand() * (dimen1[1]-dimen2[1]/2));\n",
    "    return int(x),int(y)"
   ]
  },
  {
   "cell_type": "code",
   "execution_count": 4,
   "metadata": {},
   "outputs": [],
   "source": [
    "def inject_photo(background, name, dst_dir, injected_photo='injection.png'):\n",
    "    layer1 = Image.open(background)\n",
    "    #layer1.show()\n",
    "    layer2 = Image.open(injected_photo)\n",
    "    #layer2.show()\n",
    "    layer1 = layer1.convert('RGBA')\n",
    "    c = Image.new('RGBA' , layer1.size,(255,255,255))\n",
    "    x,y = rand_params()\n",
    "\n",
    "    resize_img = layer2\n",
    "    c.paste(resize_img,(x,y))\n",
    "    result = Image.alpha_composite(layer1,c)\n",
    "    new_name = os.path.join(dst_dir,name)\n",
    "    result.save(new_name)"
   ]
  },
  {
   "cell_type": "code",
   "execution_count": 5,
   "metadata": {},
   "outputs": [],
   "source": [
    "def copy_rename(background,name, dst_dir):\n",
    "    img = Image.open(background)\n",
    "    new_img = img.convert('RGBA')\n",
    "    new_name = os.path.join(dst_dir,name)\n",
    "    new_img.save(new_name)"
   ]
  },
  {
   "cell_type": "code",
   "execution_count": null,
   "metadata": {},
   "outputs": [],
   "source": [
    "def make_data(src_dir,dst_dir,limit = 500,file_ext='.png', img_size = 256, num_channels = 4):\n",
    "#Params\n",
    "    n = 0;\n",
    "    num_pics = len(os.listdir(src_dir))\n",
    "    label = np.zeros(shape=(limit,2))\n",
    "    mark = np.array([[1,0]])\n",
    "    print(\"creating {} samples\".format(limit))\n",
    "#Creation of data\n",
    "#Needs photos with \n",
    "#in first loop creates injected photos, in second copies photos\n",
    "#Mark with 1 in first coulumn tells that injection is present, in second that it is absent(one-hot code)\n",
    "    for i in range(1,3):\n",
    "        if (i==2): mark = np.array([[0,1]]); print(\"doing second part\")\n",
    "        for f in os.listdir(src_dir):\n",
    "            if (n==limit*(i/2)): break\n",
    "            src_file = os.path.join(src_dir,f)\n",
    "            check_size = imageio.imread(src_file).astype(float)\n",
    "            if f.endswith(file_ext) and check_size.shape == (img_size, img_size, :) :\n",
    "                n+=1\n",
    "                #Name of file\n",
    "                new_name = ('{0}.png'.format(n))\n",
    "                #Add some random function here for better data creation\n",
    "                #Needs some label creation for half of data\n",
    "                \n",
    "                if (i==1):\n",
    "                    inject_photo(src_file, new_name, dst_dir)\n",
    "                else:\n",
    "                    copy_rename(src_file, new_name, dst_dir)\n",
    "                #assign labels    \n",
    "                label[n-1] = mark\n",
    "                if (n%(limit/10)==0):\n",
    "                    print(\"done {}%\".format((n/limit)*100))\n",
    "            else: print(\"Wrong image shape, check for alpha channel {}\".format(f))\n",
    "\n",
    "        np.save(\"label.npy\",label)\n",
    "    print(\"Created {} files\".format(n))"
   ]
  },
  {
   "cell_type": "code",
   "execution_count": null,
   "metadata": {},
   "outputs": [],
   "source": [
    "if __name__ == '__main__' :\n",
    "    main()\n"
   ]
  },
  {
   "cell_type": "code",
   "execution_count": null,
   "metadata": {},
   "outputs": [],
   "source": [
    " dst_dir = './Test'\n",
    "check = os.path.join(dst_dir,\"label.npy\")\n",
    "check_name = np.load(check)\n",
    "print(check_name)"
   ]
  },
  {
   "cell_type": "code",
   "execution_count": null,
   "metadata": {},
   "outputs": [],
   "source": []
  }
 ],
 "metadata": {
  "kernelspec": {
   "display_name": "Python 3",
   "language": "python",
   "name": "python3"
  },
  "language_info": {
   "codemirror_mode": {
    "name": "ipython",
    "version": 3
   },
   "file_extension": ".py",
   "mimetype": "text/x-python",
   "name": "python",
   "nbconvert_exporter": "python",
   "pygments_lexer": "ipython3",
   "version": "3.5.5"
  },
  "varInspector": {
   "cols": {
    "lenName": 16,
    "lenType": 16,
    "lenVar": 40
   },
   "kernels_config": {
    "python": {
     "delete_cmd_postfix": "",
     "delete_cmd_prefix": "del ",
     "library": "var_list.py",
     "varRefreshCmd": "print(var_dic_list())"
    },
    "r": {
     "delete_cmd_postfix": ") ",
     "delete_cmd_prefix": "rm(",
     "library": "var_list.r",
     "varRefreshCmd": "cat(var_dic_list()) "
    }
   },
   "types_to_exclude": [
    "module",
    "function",
    "builtin_function_or_method",
    "instance",
    "_Feature"
   ],
   "window_display": false
  }
 },
 "nbformat": 4,
 "nbformat_minor": 2
}
