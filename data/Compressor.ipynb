{
 "cells": [
  {
   "cell_type": "code",
   "execution_count": 42,
   "metadata": {},
   "outputs": [],
   "source": [
    "import PIL\n",
    "import os\n",
    "import imageio\n",
    "import numpy as np\n",
    "import time\n",
    "import matplotlib.pyplot as plt"
   ]
  },
  {
   "cell_type": "code",
   "execution_count": 43,
   "metadata": {},
   "outputs": [],
   "source": [
    "img_size = 256\n",
    "pixel_depth = 24\n",
    "num_channels = 3\n",
    "src_dir = 'Pictures'\n",
    "src_labels = \"label.npy\"\n",
    "dst_dir = \"Dataset\"\n",
    "#dataset_shape = (img_per_part, img_size, img_size, num_channels)"
   ]
  },
  {
   "cell_type": "code",
   "execution_count": 44,
   "metadata": {},
   "outputs": [],
   "source": [
    "def main(src_dir, dst_dir, src_labels, force=False):\n",
    "    \"\"\"\n",
    "    Function used for splitting tons of photos into smaller compressed batches,\n",
    "    also randomizes data order, and keeps track of proper labels for given data\n",
    "    \"\"\"\n",
    "    start_time = time.time()\n",
    "    if not os.path.exists(dst_dir): #name of saving directory\n",
    "        os.mkdir(dst_dir)\n",
    "    make_package(src_dir, dst_dir, src_labels)\n",
    "\n",
    "    print('Done, it workied for: {0} seconds'.format(time.time() - start_time))"
   ]
  },
  {
   "cell_type": "code",
   "execution_count": 45,
   "metadata": {},
   "outputs": [],
   "source": [
    "def make_subdataset(src_folder, src_labels, n, new_file_name):\n",
    "    \"\"\"\n",
    "    Function loads dataset into memory as one file,\n",
    "    splits label.npy into proper sub parts and saves labels\n",
    "    \"\"\"\n",
    "    #Get files\n",
    "    index = 0\n",
    "    image_files = os.listdir(src_folder)\n",
    "    #initialize array for all images\n",
    "    dataset = np.ndarray(shape = \n",
    "                         (len(image_files),img_size,img_size,num_channels),dtype = np.uint8)\n",
    "    labels = np.ndarray(shape = (len(image_files),6))\n",
    "    src_labels_open = np.load(src_labels)\n",
    "    for image in image_files:\n",
    "        image_file = os.path.join(src_folder, image)\n",
    "        name = os.path.splitext(image)\n",
    "        #get unique image_id\n",
    "        num_extracted = int(name[0])\n",
    "    #try:\n",
    "        loaded_image = PIL.Image.open(image_file)\n",
    "        image_data = np.array(loaded_image)\n",
    "        if image_data.shape != (img_size,img_size,num_channels):\n",
    "            raise Exception('Wrong image shape {}'.format(image_file))\n",
    "            \n",
    "        dataset[index,:,:,:] = image_data\n",
    "        labels[index,:] = src_labels_open[num_extracted-1]\n",
    "        index+=1\n",
    "    name = \"label\"+str(n)\n",
    "    dataset = dataset[0:index, :, : ,:]\n",
    "    new_label_name = os.path.join(dst_dir, name+\".npy\")\n",
    "    np.save(new_label_name, labels)\n",
    "    np.save(new_file_name, dataset)\n",
    "    \n"
   ]
  },
  {
   "cell_type": "code",
   "execution_count": 46,
   "metadata": {},
   "outputs": [],
   "source": [
    "def make_package(src_dir, dst_dir, src_labels, force= False):\n",
    "    \"\"\"\n",
    "    Function for making data package, save into .npy file\n",
    "    \"\"\"\n",
    "    print(\"Found {}parts to pickle\".format(len(os.listdir(src_dir))))\n",
    "    nth=0\n",
    "    for folder in os.listdir(src_dir):\n",
    "        nth+=1\n",
    "        file_name = \"data\"+str(nth)+'.npy'\n",
    "        if os.path.exists(file_name) and not force:\n",
    "            # You may override by setting force=True.\n",
    "            print('%s already present - Skipping pickling.' % file_name)\n",
    "        else:\n",
    "            print('Compressing %s.' % file_name)\n",
    "            src_folder = os.path.join(src_dir, folder)\n",
    "            dst_file_name = os.path.join(dst_dir, file_name)\n",
    "            make_subdataset(src_folder, src_labels, nth, dst_file_name)\n",
    "            "
   ]
  },
  {
   "cell_type": "code",
   "execution_count": 47,
   "metadata": {},
   "outputs": [
    {
     "name": "stdout",
     "output_type": "stream",
     "text": [
      "Found 1parts to pickle\n",
      "Compressing data1.npy.\n",
      "<class 'numpy.ndarray'>\n",
      "<class 'numpy.ndarray'>\n",
      "<class 'numpy.ndarray'>\n",
      "<class 'numpy.ndarray'>\n",
      "<class 'numpy.ndarray'>\n",
      "<class 'numpy.ndarray'>\n",
      "<class 'numpy.ndarray'>\n",
      "<class 'numpy.ndarray'>\n",
      "<class 'numpy.ndarray'>\n",
      "<class 'numpy.ndarray'>\n",
      "<class 'numpy.ndarray'>\n",
      "<class 'numpy.ndarray'>\n",
      "<class 'numpy.ndarray'>\n",
      "<class 'numpy.ndarray'>\n",
      "<class 'numpy.ndarray'>\n",
      "<class 'numpy.ndarray'>\n",
      "<class 'numpy.ndarray'>\n",
      "<class 'numpy.ndarray'>\n",
      "<class 'numpy.ndarray'>\n",
      "<class 'numpy.ndarray'>\n",
      "Done, it workied for: 0.07100415229797363 seconds\n"
     ]
    }
   ],
   "source": [
    "if __name__ == '__main__' :\n",
    "    main(src_dir, dst_dir, src_labels, force = True)"
   ]
  },
  {
   "cell_type": "code",
   "execution_count": 48,
   "metadata": {},
   "outputs": [
    {
     "name": "stdout",
     "output_type": "stream",
     "text": [
      "(20, 256, 256, 3)\n",
      "(256, 256, 3)\n"
     ]
    }
   ],
   "source": [
    "nth = 1\n",
    "src_dir = \"./Dataset\"\n",
    "dataset_name = \"data\"+str(nth)+\".npy\"\n",
    "label_name = \"label\"+str(nth)+\".npy\"\n",
    "data_file = os.path.join(src_dir,dataset_name)\n",
    "label_name = os.path.join(src_dir,label_name)\n",
    "dataset = np.load(data_file)\n",
    "img_data = np.ndarray((img_size,img_size,num_channels),dtype = np.uint8)\n",
    "img_data = dataset[0]\n",
    "print(dataset.shape)\n",
    "print(img_data.shape)\n",
    "img = PIL.Image.fromarray(img_data, mode='RGB')\n",
    "img.show()"
   ]
  },
  {
   "cell_type": "code",
   "execution_count": null,
   "metadata": {},
   "outputs": [],
   "source": []
  }
 ],
 "metadata": {
  "kernelspec": {
   "display_name": "Python 3",
   "language": "python",
   "name": "python3"
  },
  "language_info": {
   "codemirror_mode": {
    "name": "ipython",
    "version": 3
   },
   "file_extension": ".py",
   "mimetype": "text/x-python",
   "name": "python",
   "nbconvert_exporter": "python",
   "pygments_lexer": "ipython3",
   "version": "3.5.5"
  }
 },
 "nbformat": 4,
 "nbformat_minor": 2
}
