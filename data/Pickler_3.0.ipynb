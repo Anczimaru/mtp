{
 "cells": [
  {
   "cell_type": "code",
   "execution_count": 13,
   "metadata": {},
   "outputs": [],
   "source": [
    "import PIL\n",
    "import os\n",
    "import imageio\n",
    "import numpy as np\n",
    "from six.moves import cPickle as pickle"
   ]
  },
  {
   "cell_type": "code",
   "execution_count": 14,
   "metadata": {},
   "outputs": [],
   "source": [
    "img_size = 256\n",
    "pixel_depth = 255.0\n",
    "num_channels = 3\n",
    "src_dir = 'Pictures'\n",
    "src_labels = \"label.npy\"\n",
    "dst_dir = \"Dataset\"\n",
    "img_per_part = 600\n",
    "dataset_shape = (img_per_part, img_size, img_size, num_channels)"
   ]
  },
  {
   "cell_type": "code",
   "execution_count": 45,
   "metadata": {},
   "outputs": [],
   "source": [
    "def make_subdataset(src_folder, src_labels, folder):\n",
    "    #load all images from folder into dataset\n",
    "    #Get files\n",
    "    index = 0\n",
    "    image_files = os.listdir(src_folder)\n",
    "    #initialize array for all images\n",
    "    dataset = np.ndarray(shape = \n",
    "                         (len(image_files),img_size,img_size,num_channels),dtype = np.float32)\n",
    "    labels = np.ndarray(shape = (len(image_files),5))\n",
    "    src_labels_open = np.load(src_labels)\n",
    "    for image in image_files:\n",
    "        image_file = os.path.join(src_folder, image)\n",
    "        name = os.path.splitext(image)\n",
    "        #get unique image_id\n",
    "        num_extracted = int(name[0])\n",
    "    #try:\n",
    "\n",
    "        image_data = (imageio.imread(image_file).astype(float) - pixel_depth/2)/pixel_depth\n",
    "        if image_data.shape != (img_size,img_size,num_channels):\n",
    "            raise Exception('Wrong image shape {}'.format(image_file))\n",
    "        dataset[index,:,:,:] = image_data\n",
    "        labels[index,:] = src_labels_open[num_extracted-1]\n",
    "        index+=1\n",
    "        #print(num_images)\n",
    "   # except(IOError, ValueError) as e:\n",
    "        #print(\"Could not read:\", image_file,\":\",e)\n",
    "        new_label_name = os.path.join(dst_dir, folder+\".npy\")\n",
    "        np.save(new_label_name, labels)\n",
    "    return dataset"
   ]
  },
  {
   "cell_type": "code",
   "execution_count": 46,
   "metadata": {},
   "outputs": [],
   "source": [
    "def do_pickle(src_dir, dst_dir, src_labels, force=False):\n",
    "    dataset_names =[]\n",
    "    for folder in os.listdir(src_dir):\n",
    "        pickle_name = folder +'.pickle'\n",
    "        dataset_names.append(pickle_name)\n",
    "        if os.path.exists(pickle_name) and not force:\n",
    "            # You may override by setting force=True.\n",
    "            print('%s already present - Skipping pickling.' % pickle_name)\n",
    "        else:\n",
    "            print('Pickling %s.' % pickle_name)\n",
    "            src_folder = os.path.join(src_dir, folder)\n",
    "            subdataset = make_subdataset(src_folder, src_labels, folder)\n",
    "            try:\n",
    "                dst_pickle_name = os.path.join(dst_dir,pickle_name)\n",
    "                with open(dst_pickle_name, 'wb') as f:\n",
    "                    pickle.dump(subdataset, f, pickle.HIGHEST_PROTOCOL)\n",
    "            except Exception as e:\n",
    "                print('Unable to save data to', set_filename, ':', e)\n",
    "  \n",
    "    return dataset_names"
   ]
  },
  {
   "cell_type": "code",
   "execution_count": 47,
   "metadata": {},
   "outputs": [],
   "source": [
    "def main(img_per_part, src_dir, dst_dir, src_labels, force=False):\n",
    "    if not os.path.exists(dst_dir): #name of saving directory\n",
    "        os.mkdir(dst_dir)\n",
    "    do_pickle(src_dir, dst_dir, src_labels)\n",
    "    print('Done')"
   ]
  },
  {
   "cell_type": "code",
   "execution_count": 48,
   "metadata": {},
   "outputs": [
    {
     "name": "stdout",
     "output_type": "stream",
     "text": [
      "Pickling Part1.pickle.\n",
      "Pickling Part10.pickle.\n",
      "Pickling Part2.pickle.\n",
      "Pickling Part3.pickle.\n",
      "Pickling Part4.pickle.\n",
      "Pickling Part5.pickle.\n",
      "Pickling Part6.pickle.\n",
      "Pickling Part7.pickle.\n",
      "Pickling Part8.pickle.\n",
      "Pickling Part9.pickle.\n",
      "Done\n"
     ]
    }
   ],
   "source": [
    "if __name__ == '__main__' :\n",
    "    main(img_per_part,src_dir, dst_dir, src_labels, force = True)"
   ]
  },
  {
   "cell_type": "markdown",
   "metadata": {},
   "source": [
    "### img_data = np.ndarray((img_size,img_size,num_channels),dtype = np.float32)\n",
    "num_extracted = 6000\n",
    "img_data_arr = np.ndarray(shape =(1,img_size,img_size,num_channels))\n",
    "print(img_data.shape)\n",
    "img_data_arr[0,0,0,0] = num_extracted\n",
    "img_data_arr[0,:,:,:] = img_data\n",
    "print(img_data_arr.shape)\n",
    "print(img_data_arr[0])"
   ]
  },
  {
   "cell_type": "code",
   "execution_count": 2,
   "metadata": {},
   "outputs": [],
   "source": [
    "base_name=\"part\"\n",
    "nth=3\n",
    "name=base_name+str(nth)"
   ]
  },
  {
   "cell_type": "code",
   "execution_count": null,
   "metadata": {},
   "outputs": [],
   "source": []
  }
 ],
 "metadata": {
  "kernelspec": {
   "display_name": "Python 3",
   "language": "python",
   "name": "python3"
  },
  "language_info": {
   "codemirror_mode": {
    "name": "ipython",
    "version": 3
   },
   "file_extension": ".py",
   "mimetype": "text/x-python",
   "name": "python",
   "nbconvert_exporter": "python",
   "pygments_lexer": "ipython3",
   "version": "3.5.5"
  }
 },
 "nbformat": 4,
 "nbformat_minor": 2
}
