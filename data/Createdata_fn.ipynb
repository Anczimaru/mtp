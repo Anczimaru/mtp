{
 "cells": [
  {
   "cell_type": "code",
   "execution_count": 19,
   "metadata": {},
   "outputs": [],
   "source": [
    "import numpy as np\n",
    "from PIL import Image\n",
    "import PIL\n",
    "import os\n",
    "import shutil\n",
    "import imageio\n",
    "import cv2\n",
    "import random"
   ]
  },
  {
   "cell_type": "code",
   "execution_count": 26,
   "metadata": {},
   "outputs": [],
   "source": [
    "#HYPER PARAMETERS\n",
    "#Program handles process of creating pictures\n",
    "#It imports injection(marker, named \"injection.png\"), bakcground photo(from src_dir), combines them by injecting marker in random position of background\n",
    "#saves it later to dst_dir\n",
    "def main():\n",
    "    src_dir = './Backgroundpics/images'\n",
    "    dst_dir = './Train'\n",
    "    file_ext = '.jpeg'\n",
    "    size_of_dataset = 100\n",
    "    make_data(src_dir, dst_dir, limit = size_of_dataset, file_ext = file_ext)"
   ]
  },
  {
   "cell_type": "code",
   "execution_count": 27,
   "metadata": {},
   "outputs": [],
   "source": [
    "def cvpaste(img, imgback, x, y, angle, scale):  \n",
    "        # x and y are the distance from the center of the background image \n",
    "        r = img.shape[0]\n",
    "        c = img.shape[1]\n",
    "        rb = imgback.shape[0]\n",
    "        cb = imgback.shape[1]\n",
    "        hrb=round(rb/2)\n",
    "        hcb=round(cb/2)\n",
    "        hr=round(r/2)\n",
    "        hc=round(c/2)\n",
    "\n",
    "        # Copy the forward image and move to the center of the background image\n",
    "        imgrot = np.zeros((rb,cb,3),np.uint8)\n",
    "        imgrot[hrb-hr:hrb+hr,hcb-hc:hcb+hc,:] = img[:hr*2,:hc*2,:]\n",
    "\n",
    "        # Rotation and scaling\n",
    "        M = cv2.getRotationMatrix2D((hcb,hrb),angle,scale)\n",
    "        imgrot = cv2.warpAffine(imgrot,M,(cb,rb))\n",
    "        # Translation\n",
    "        M = np.float32([[1,0,x],[0,1,y]])\n",
    "        imgrot = cv2.warpAffine(imgrot,M,(cb,rb))\n",
    "\n",
    "        # Makeing mask\n",
    "        imggray = cv2.cvtColor(imgrot,cv2.COLOR_BGR2GRAY)\n",
    "        ret, mask = cv2.threshold(imggray, 10, 255, cv2.THRESH_BINARY)\n",
    "        mask_inv = cv2.bitwise_not(mask)\n",
    "\n",
    "        # Now black-out the area of the forward image in the background image\n",
    "        img1_bg = cv2.bitwise_and(imgback,imgback,mask = mask_inv)\n",
    "\n",
    "        # Take only region of the forward image.\n",
    "        img2_fg = cv2.bitwise_and(imgrot,imgrot,mask = mask)\n",
    "\n",
    "        # Paste the forward image on the background image\n",
    "        imgpaste = cv2.add(img1_bg,img2_fg)\n",
    "\n",
    "        return imgpaste\n"
   ]
  },
  {
   "cell_type": "code",
   "execution_count": 28,
   "metadata": {},
   "outputs": [],
   "source": [
    "#Proceed with injetion on background photo\n",
    "def inject_photo(background, name, dst_dir, injected_photo='injection.png'):\n",
    "    \"\"\"Function makes injection into 'Background' from ' injected_photo', renames it and places it in dst_dir \"\"\"\n",
    "\n",
    "    imgback = cv2.imread(background,-1)\n",
    "    img = cv2.imread(injected_photo,-1)\n",
    "    rows,cols,channels = imgback.shape\n",
    "    x=(random.uniform(-cols/4,cols/4)) # x distancec for x axis from center \n",
    "    y=(random.uniform(-rows/4,cols/4)) # y y distance from center\n",
    "    angle=(random.randint(0, 360)) # decide angle from 0 to 360\n",
    "    scale=(random.uniform(0.5,2))    # chose the sholipe logo sacale \n",
    "\n",
    "    imgpaste = cvpaste(img, imgback, x, y, angle, scale)\n",
    "    name = os.path.join(dst_dir, name)\n",
    "    cv2.imwrite(name,imgpaste)"
   ]
  },
  {
   "cell_type": "code",
   "execution_count": 29,
   "metadata": {},
   "outputs": [],
   "source": [
    "def copy_rename(background,name, dst_dir):\n",
    "    \"\"\"Function converts background picture to 4 channel picture in dst_dir with new name\"\"\"\n",
    "    #import\n",
    "    img = Image.open(background)\n",
    "    #convert to 4 channel\n",
    "    new_img = img.convert('RGB')\n",
    "    #get new name\n",
    "    new_name = os.path.join(dst_dir,name)\n",
    "    #Save\n",
    "    new_img.save(new_name)"
   ]
  },
  {
   "cell_type": "code",
   "execution_count": 30,
   "metadata": {},
   "outputs": [],
   "source": [
    "def make_data(src_dir, dst_dir, limit = 500, file_ext='.png', img_size = 256, num_channels = 3):\n",
    "#Params\n",
    "    n = 0;\n",
    "    num_pics = len(os.listdir(src_dir))\n",
    "    label = np.zeros(shape=(limit,2))\n",
    "    mark = np.array([[1,0]])\n",
    "    print(\"creating {} samples\".format(limit))\n",
    "#Creation of data\n",
    "#Needs photos with \n",
    "#in first loop creates injected photos, in second copies photos\n",
    "#Mark with 1 in first coulumn tells that injection is present, in second that it is absent(one-hot code)\n",
    "    for i in range(1,3):\n",
    "        if (i==2): mark = np.array([[0,1]]); print(\"doing second part\")\n",
    "        for f in os.listdir(src_dir):\n",
    "            #condition for number of created pictures\n",
    "            if (n==limit*(i/2)): break\n",
    "            #get name of imported background pic\n",
    "            src_file = os.path.join(src_dir,f)\n",
    "            #check_size = imageio.imread(src_file).astype(float)\n",
    "            if f.endswith(file_ext):\n",
    "                n+=1\n",
    "                #Name of file\n",
    "                new_name = ('{0}.png'.format(n))\n",
    "                #Add some random function here for better data creation\n",
    "                #Needs some label creation for half of data\n",
    "                #if 1 make injection, if 2 just convert and rename\n",
    "                if (i==1):\n",
    "                    inject_photo(src_file, new_name, dst_dir)\n",
    "                else:\n",
    "                    copy_rename(src_file, new_name, dst_dir)\n",
    "                #assign labels to array\n",
    "                label[n-1] = mark\n",
    "                if (n%(limit/10)==0):\n",
    "                    print(\"done {}%\".format((n/limit)*100))\n",
    "        #save file with labels\n",
    "        np.save(\"label.npy\", label)\n",
    "    print(\"Created {} files\".format(n))"
   ]
  },
  {
   "cell_type": "code",
   "execution_count": 31,
   "metadata": {},
   "outputs": [
    {
     "name": "stdout",
     "output_type": "stream",
     "text": [
      "creating 100 samples\n",
      "done 10.0%\n",
      "done 20.0%\n",
      "done 30.0%\n",
      "done 40.0%\n",
      "done 50.0%\n",
      "doing second part\n",
      "done 60.0%\n",
      "done 70.0%\n",
      "done 80.0%\n",
      "done 90.0%\n",
      "done 100.0%\n",
      "Created 100 files\n"
     ]
    }
   ],
   "source": [
    "if __name__ == '__main__' :\n",
    "    main()\n"
   ]
  },
  {
   "cell_type": "code",
   "execution_count": 56,
   "metadata": {
    "scrolled": true
   },
   "outputs": [
    {
     "name": "stdout",
     "output_type": "stream",
     "text": [
      "[[1. 0.]\n",
      " [1. 0.]\n",
      " [1. 0.]\n",
      " [1. 0.]\n",
      " [1. 0.]\n",
      " [0. 1.]\n",
      " [0. 1.]\n",
      " [0. 1.]\n",
      " [0. 1.]\n",
      " [0. 1.]]\n"
     ]
    }
   ],
   "source": [
    "check_name = np.load(\"label.npy\")\n",
    "print(check_name)"
   ]
  },
  {
   "cell_type": "code",
   "execution_count": null,
   "metadata": {
    "collapsed": true
   },
   "outputs": [],
   "source": []
  }
 ],
 "metadata": {
  "kernelspec": {
   "display_name": "Python 3",
   "language": "python",
   "name": "python3"
  },
  "language_info": {
   "codemirror_mode": {
    "name": "ipython",
    "version": 3
   },
   "file_extension": ".py",
   "mimetype": "text/x-python",
   "name": "python",
   "nbconvert_exporter": "python",
   "pygments_lexer": "ipython3",
   "version": "3.5.5"
  },
  "varInspector": {
   "cols": {
    "lenName": 16,
    "lenType": 16,
    "lenVar": 40
   },
   "kernels_config": {
    "python": {
     "delete_cmd_postfix": "",
     "delete_cmd_prefix": "del ",
     "library": "var_list.py",
     "varRefreshCmd": "print(var_dic_list())"
    },
    "r": {
     "delete_cmd_postfix": ") ",
     "delete_cmd_prefix": "rm(",
     "library": "var_list.r",
     "varRefreshCmd": "cat(var_dic_list()) "
    }
   },
   "types_to_exclude": [
    "module",
    "function",
    "builtin_function_or_method",
    "instance",
    "_Feature"
   ],
   "window_display": false
  }
 },
 "nbformat": 4,
 "nbformat_minor": 2
}
