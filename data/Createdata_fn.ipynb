{
 "cells": [
  {
   "cell_type": "code",
   "execution_count": 102,
   "metadata": {},
   "outputs": [],
   "source": [
    "import numpy as np\n",
    "from PIL import Image\n",
    "import PIL\n",
    "import os\n",
    "import shutil"
   ]
  },
  {
   "cell_type": "code",
   "execution_count": 143,
   "metadata": {},
   "outputs": [],
   "source": [
    "#HYPER PARAMETERS\n",
    "src_dir = './Backgroundpics'\n",
    "dst_dir = './Test'"
   ]
  },
  {
   "cell_type": "code",
   "execution_count": 91,
   "metadata": {},
   "outputs": [],
   "source": [
    "#Get x,y locations for injected photo depending on size of image\n",
    "def rand_params(dimen1 =(256,256), dimen2 = (64,64)):\n",
    "    x = np.ceil(np.random.rand() * (dimen1[0]-dimen2[0]/2));\n",
    "    y = np.ceil(np.random.rand() * (dimen1[1]-dimen2[1]/2));\n",
    "    return int(x),int(y)"
   ]
  },
  {
   "cell_type": "code",
   "execution_count": 121,
   "metadata": {},
   "outputs": [],
   "source": [
    "def inject_photo(background, name, dst_dir, injected='injected.png'):\n",
    "    layer1 = Image.open(background)\n",
    "    #layer1.show()\n",
    "    layer2 = Image.open(injected)\n",
    "    #layer2.show()\n",
    "    layer1 = layer1.convert('RGBA')\n",
    "    c = Image.new('RGBA' , layer1.size,(255,255,255,0))\n",
    "    x,y = rand_params()\n",
    "\n",
    "    resize_img = layer2\n",
    "    c.paste(resize_img,(x,y))\n",
    "    result = Image.alpha_composite(layer1,c)\n",
    "    new_name = os.path.join(dst_dir,name)\n",
    "    result.save(new_name)\n",
    "    del result"
   ]
  },
  {
   "cell_type": "code",
   "execution_count": 130,
   "metadata": {},
   "outputs": [],
   "source": [
    "def copy_rename(old_file_name,new_file_name,src_dir,dst_dir):\n",
    "    src_file = os.path.join(src_dir, old_file_name)\n",
    "    shutil.copy(src_file, dst_dir)\n",
    "    dst_file = os.path.join(dst_dir,old_file_name)\n",
    "    new_dst_file_name = os.path.join(dst_dir,new_file_name)\n",
    "    os.rename(dst_file,new_dst_file_name)"
   ]
  },
  {
   "cell_type": "code",
   "execution_count": 145,
   "metadata": {},
   "outputs": [],
   "source": [
    "def make_data(src_dir,dst_dir):\n",
    "#Params\n",
    "    n = 0;\n",
    "    num_pics = len(os.listdir(src_dir))\n",
    "    label = np.zeros(shape=(2*num_pics,2))\n",
    "    mark = np.array([[1,0]])\n",
    "#Creation\n",
    "#Needs files in source_dir to work properly\n",
    "#in first loop creates injected photos, in second copies photos\n",
    "#Mark with 1 in first place tells that injection is present, in second that it is absent\n",
    "    for i in range(1,3):\n",
    "        if (i==2): mark = np.array([[0,1]])\n",
    "        for f in os.listdir(src_dir):\n",
    "            src_file = os.path.join(src_dir,f)\n",
    "            if f.endswith('.png'):\n",
    "                n+=1\n",
    "                #Name of file\n",
    "                new_name = ('{0}.png'.format(n))\n",
    "                #Add some random function here for better data creation\n",
    "                #Needs some label creation for half of data\n",
    "                \n",
    "                if (i==1):\n",
    "                    inject_photo(src_file, new_name, dst_dir)\n",
    "                else:\n",
    "                    copy_rename(f,new_name,src_dir,dst_dir)\n",
    "                #assign labels    \n",
    "                label[n-1] = mark\n",
    "                if (n%(num_pics/10)==0):\n",
    "                    print(\"done {}%\".format((i/num_pics)*100))\n",
    "\n",
    "\n",
    "        label_file_name = os.path.join(dst_dir,\"label.npy\")\n",
    "        np.save(label_file_name,label)"
   ]
  },
  {
   "cell_type": "code",
   "execution_count": 147,
   "metadata": {},
   "outputs": [
    {
     "name": "stdout",
     "output_type": "stream",
     "text": [
      "1\n"
     ]
    }
   ],
   "source": [
    "make_data(src_dir,dst_dir)\n",
    "print(n)"
   ]
  },
  {
   "cell_type": "code",
   "execution_count": 149,
   "metadata": {},
   "outputs": [
    {
     "name": "stdout",
     "output_type": "stream",
     "text": [
      "[[1. 0.]\n",
      " [0. 1.]]\n"
     ]
    }
   ],
   "source": [
    "check = os.path.join(dst_dir,\"label.npy\")\n",
    "check_name = np.load(check)\n",
    "print(check_name)"
   ]
  },
  {
   "cell_type": "code",
   "execution_count": null,
   "metadata": {},
   "outputs": [],
   "source": []
  },
  {
   "cell_type": "code",
   "execution_count": null,
   "metadata": {},
   "outputs": [],
   "source": []
  }
 ],
 "metadata": {
  "kernelspec": {
   "display_name": "Python 3",
   "language": "python",
   "name": "python3"
  },
  "language_info": {
   "codemirror_mode": {
    "name": "ipython",
    "version": 3
   },
   "file_extension": ".py",
   "mimetype": "text/x-python",
   "name": "python",
   "nbconvert_exporter": "python",
   "pygments_lexer": "ipython3",
   "version": "3.5.5"
  },
  "varInspector": {
   "cols": {
    "lenName": 16,
    "lenType": 16,
    "lenVar": 40
   },
   "kernels_config": {
    "python": {
     "delete_cmd_postfix": "",
     "delete_cmd_prefix": "del ",
     "library": "var_list.py",
     "varRefreshCmd": "print(var_dic_list())"
    },
    "r": {
     "delete_cmd_postfix": ") ",
     "delete_cmd_prefix": "rm(",
     "library": "var_list.r",
     "varRefreshCmd": "cat(var_dic_list()) "
    }
   },
   "types_to_exclude": [
    "module",
    "function",
    "builtin_function_or_method",
    "instance",
    "_Feature"
   ],
   "window_display": false
  }
 },
 "nbformat": 4,
 "nbformat_minor": 2
}
