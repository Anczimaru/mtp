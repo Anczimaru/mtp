{
 "cells": [
  {
   "cell_type": "code",
   "execution_count": 3,
   "metadata": {},
   "outputs": [],
   "source": [
    "import tensorflow as tf\n",
    "import numpy as np\n",
    "import sys\n",
    "import os\n",
    "from six.moves import cPickle as pickle\n",
    "import functools\n",
    "import import_ipynb"
   ]
  },
  {
   "cell_type": "code",
   "execution_count": 4,
   "metadata": {},
   "outputs": [],
   "source": [
    "img_size = 28\n",
    "num_channels = 1\n",
    "num_classes = 10\n",
    "learning_rate = 1e-4\n",
    "#ADD MORE PARAMETERS HERE BOI\n",
    "params = {\"learning_rate\": learning_rate,\n",
    "          \"img_size\": img_size,\n",
    "          \"num_channels\":num_channels,\n",
    "          \"num_classes\":num_classes}"
   ]
  },
  {
   "cell_type": "markdown",
   "metadata": {},
   "source": [
    "#### Following code serves for nice and smart defyning model as reusable code"
   ]
  },
  {
   "cell_type": "code",
   "execution_count": 11,
   "metadata": {},
   "outputs": [],
   "source": [
    "def lazy_property(function):\n",
    "    attribute = '_cache_' + function.__name__\n",
    "    \n",
    "    @property\n",
    "    @functools.wraps(function)\n",
    "    def decorator(self):\n",
    "        if not hasattr(self, attribute):\n",
    "            with tf.variable_scope(function.__name__):\n",
    "                setattr(self, attribute, function(self))\n",
    "        return getattr(self, attribute)\n",
    "    \n",
    "    return decorator"
   ]
  },
  {
   "cell_type": "markdown",
   "metadata": {},
   "source": [
    "##### Data loading Block, change that block from .ipynb to .py"
   ]
  },
  {
   "cell_type": "code",
   "execution_count": 12,
   "metadata": {},
   "outputs": [
    {
     "name": "stdout",
     "output_type": "stream",
     "text": [
      "(200000, 28, 28, 1) (200000, 10)\n"
     ]
    }
   ],
   "source": [
    "from my_load_data import load_dataset_fn\n",
    "x,y = load_dataset_fn('train')\n",
    "print(x.shape, y.shape)"
   ]
  },
  {
   "cell_type": "markdown",
   "metadata": {},
   "source": [
    "##### Defining model as reusable function"
   ]
  },
  {
   "cell_type": "code",
   "execution_count": 39,
   "metadata": {},
   "outputs": [],
   "source": [
    "class Model:\n",
    "    \n",
    "    def __init__(self, data, labels, params, mode=None):\n",
    "        self.data = data\n",
    "        self.target = labels\n",
    "        self.img_size = params[\"img_size\"]\n",
    "        self.num_channels = params[\"num_channels\"]\n",
    "        self.num_classes = params[\"num_classes\"]\n",
    "        self.mode = mode\n",
    "        self.prediction\n",
    "        self.optimize\n",
    "        self.error\n",
    "        \n",
    "    @lazy_property\n",
    "    def prediction(self):\n",
    "        #INPUT LAYER\n",
    "        input_layer = tf.reshape(self.data,[-1, self.img_size, self.img_size, self.num_channels])\n",
    "        #1 conv layer\n",
    "        conv1 = tf.layers.conv2d(inputs = input_layer, \n",
    "                                 filters = 16,\n",
    "                                 kernel_size = 5,\n",
    "                                 strides = 1,\n",
    "                                 padding = \"same\",\n",
    "                                 activation = tf.nn.relu)\n",
    "        #1 pool layer, img size reduced by 1/4\n",
    "        pool1 = tf.layers.max_pooling2d(inputs=conv1,\n",
    "                                        pool_size = 2, \n",
    "                                        strides = 2,\n",
    "                                        padding = \"same\")\n",
    "\n",
    "\n",
    "        pool_1_flat = tf.reshape(pool1,[-1,int(self.img_size * self.img_size * 16 / 4)])\n",
    "\n",
    "\n",
    "        dense = tf.layers.dense(inputs = pool_1_flat,\n",
    "                                units = 128,\n",
    "                                activation = tf.nn.relu)\n",
    "\n",
    "        dense2 = tf.layers.dense(inputs = dense,\n",
    "                                 units = 64,\n",
    "                                 activation = tf.nn.relu)\n",
    "\n",
    "        logits = tf.layers.dense(inputs = dense2,\n",
    "                                 units = self.num_classes,\n",
    "                                 activation = tf.nn.relu)\n",
    "\n",
    "\n",
    "\n",
    "\n",
    "        # Softmax output of the neural network.\n",
    "        #[10,x] tesnor\n",
    "        y_pred = tf.nn.softmax(logits=logits)\n",
    "        y_pred_cls = tf.argmax(y_pred, axis=1)\n",
    "        return y_pred\n",
    "    \n",
    "    \n",
    "    \n",
    "    @lazy_property\n",
    "    def optimize(self):\n",
    "        cross_entropy =  tf.nn.softmax_cross_entropy_with_logits_v2(labels=self.target, logits=predcition)\n",
    "        optimizer = tf.train.AdamOptimizer(learning_rate = params[\"learning_rate\"])\n",
    "        return optimizer.minimize(cross_entropy)\n",
    "\n",
    "    @lazy_property\n",
    "    def error(self):\n",
    "        mistakes = tf.not_equal(\n",
    "            tf.argmax(self.label, 1), tf.argmax(self.prediction, 1))\n",
    "        return tf.reduce_mean(tf.cast(mistakes, tf.float32))\n",
    "    \n",
    "    \n",
    "    \n",
    "\n",
    "    "
   ]
  },
  {
   "cell_type": "code",
   "execution_count": null,
   "metadata": {},
   "outputs": [],
   "source": [
    "def main(dataset, labels, params, mode = None):\n",
    "    sess = tf.Session()\n",
    "    model = Model(dataset, labels, params, mode = None)\n",
    "    sess.run(tf.initialize_all_variables())\n",
    "    num_steps = 1001\n",
    "    with tf.Session() as session:\n",
    "        tf.global_variables_initializer().run()\n",
    "        print('Initialized')\n",
    "        for step in range(num_steps):\n",
    "            offset = (step * batch_size) % (train_labels.shape[0] - batch_size)\n",
    "            batch_data = train_dataset[offset:(offset + batch_size), :, :, :]\n",
    "            batch_labels = train_labels[offset:(offset + batch_size), :]\n",
    "            feed_dict = {tf_train_dataset : batch_data, tf_train_labels : batch_labels}\n",
    "            _, l, predictions = session.run(\n",
    "                [optimizer, loss, train_prediction], feed_dict=feed_dict)\n",
    "            if (step % 100 == 0):\n",
    "                print('Minibatch loss at step %d: %f' % (step, l))\n",
    "                print('Minibatch accuracy: %.1f%%' % accuracy(predictions, batch_labels))\n",
    "                print('Validation accuracy: %.1f%%' % accuracy(\n",
    "                valid_prediction.eval(), valid_labels))\n",
    "        print('Test accuracy: %.1f%%' % accuracy(test_prediction.eval(), test_labels))\n",
    "\n",
    "    \n",
    "if __name__ == '__main__':\n",
    "    main(x,y,params)"
   ]
  },
  {
   "cell_type": "markdown",
   "metadata": {},
   "source": [
    "###### trash code\n",
    "img_size_flat = int(img_size * img_size * 64/16)"
   ]
  },
  {
   "cell_type": "code",
   "execution_count": null,
   "metadata": {},
   "outputs": [],
   "source": []
  },
  {
   "cell_type": "code",
   "execution_count": null,
   "metadata": {},
   "outputs": [],
   "source": []
  }
 ],
 "metadata": {
  "kernelspec": {
   "display_name": "Python 3",
   "language": "python",
   "name": "python3"
  },
  "language_info": {
   "codemirror_mode": {
    "name": "ipython",
    "version": 3
   },
   "file_extension": ".py",
   "mimetype": "text/x-python",
   "name": "python",
   "nbconvert_exporter": "python",
   "pygments_lexer": "ipython3",
   "version": "3.5.5"
  },
  "varInspector": {
   "cols": {
    "lenName": 16,
    "lenType": 16,
    "lenVar": 40
   },
   "kernels_config": {
    "python": {
     "delete_cmd_postfix": "",
     "delete_cmd_prefix": "del ",
     "library": "var_list.py",
     "varRefreshCmd": "print(var_dic_list())"
    },
    "r": {
     "delete_cmd_postfix": ") ",
     "delete_cmd_prefix": "rm(",
     "library": "var_list.r",
     "varRefreshCmd": "cat(var_dic_list()) "
    }
   },
   "types_to_exclude": [
    "module",
    "function",
    "builtin_function_or_method",
    "instance",
    "_Feature"
   ],
   "window_display": false
  }
 },
 "nbformat": 4,
 "nbformat_minor": 2
}
